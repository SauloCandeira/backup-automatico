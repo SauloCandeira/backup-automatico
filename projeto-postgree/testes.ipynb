{
 "cells": [
  {
   "cell_type": "code",
   "execution_count": 88,
   "source": [
    "#! python3\r\n",
    "#!/usr/bin/env python\r\n",
    "# -*- coding: utf-8 -*-\r\n",
    "\r\n",
    "import psycopg2\r\n",
    "import pandas as pd\r\n",
    "\r\n",
    "\r\n",
    "try:\r\n",
    "    conn = psycopg2.connect(\"dbname='teste' user='postgres' host='localhost' password='#'\")\r\n",
    "except:\r\n",
    "    print (\"I am unable to connect to the database\")\r\n",
    "\r\n",
    "cur = conn.cursor()\r\n",
    "try:\r\n",
    "    #cur.execute(\"\"\"SELECT * FROM automovel\"\"\")\r\n",
    "    cur.execute(\"\"\"Select count(*) is_sincronizado, 'Biometrias Online' as conexao from bio_access where is_sincronizado is true \r\n",
    "                    union all \r\n",
    "                    Select count(*) is_sincronizado, 'Biometrias Offline' as conexao from bio_access where is_sincronizado is false  \"\"\")\r\n",
    "    records = cur.fetchall()\r\n",
    "    print(records)\r\n",
    "except:\r\n",
    "    print (\"I can't drop our test database!\")\r\n",
    "\r\n",
    "\r\n",
    "\r\n"
   ],
   "outputs": [
    {
     "output_type": "stream",
     "name": "stdout",
     "text": [
      "[(9314, 'Biometrias Online'), (2, 'Biometrias Offline')]\n"
     ]
    }
   ],
   "metadata": {}
  },
  {
   "cell_type": "code",
   "execution_count": 93,
   "source": [
    "#! python3\r\n",
    "#!/usr/bin/env python\r\n",
    "# -*- coding: utf-8 -*-\r\n",
    "\r\n",
    "import pyodbc\r\n",
    "import pandas as pd\r\n",
    "\r\n",
    "\r\n",
    "\r\n",
    "conn =psycopg2.connect(\"dbname='teste' user='postgres' host='localhost' password='#'\")\r\n",
    "def connectSQLServer(conn):\r\n",
    "    connpostgree = conn\r\n",
    "    return connpostgree\r\n",
    "sql_query = ('''  Select count(*) is_sincronizado, 'Tags Online' as conexao from auto_access_tag where is_sincronizado is true \r\n",
    "union all \r\n",
    "Select count(*) is_sincronizado, 'Tags Offline' as conexao from auto_access_tag where is_sincronizado is false ''')\r\n",
    "\r\n",
    "# ----------------- SELECT II\r\n",
    "df = pd.read_sql(sql_query,conn)\r\n",
    "print(df)\r\n",
    "\r\n"
   ],
   "outputs": [
    {
     "output_type": "stream",
     "name": "stdout",
     "text": [
      "   is_sincronizado       conexao\n",
      "0             5751   Tags Online\n",
      "1                0  Tags Offline\n"
     ]
    }
   ],
   "metadata": {}
  }
 ],
 "metadata": {
  "kernelspec": {
   "name": "python3",
   "display_name": "Python 3.9.6 64-bit"
  },
  "language_info": {
   "codemirror_mode": {
    "name": "ipython",
    "version": 3
   },
   "file_extension": ".py",
   "mimetype": "text/x-python",
   "name": "python",
   "nbconvert_exporter": "python",
   "pygments_lexer": "ipython3",
   "version": "3.9.6"
  },
  "interpreter": {
   "hash": "c80e544ec111088e2f6dc801e1db3f1214225b608fdf7314f9da9f2659d0f6db"
  }
 },
 "nbformat": 4,
 "nbformat_minor": 5
}